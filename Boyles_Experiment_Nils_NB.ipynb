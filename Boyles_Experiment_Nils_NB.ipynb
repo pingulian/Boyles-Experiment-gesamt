{
 "cells": [
  {
   "cell_type": "code",
   "execution_count": null,
   "id": "bac9c626-1b58-4ec7-b3c1-f43c4f606955",
   "metadata": {},
   "outputs": [
    {
     "name": "stdout",
     "output_type": "stream",
     "text": [
      "Max Wert: 40.0\n",
      "Min Wert: 28.125\n",
      "Durschschnitt 31.575657894736842\n",
      "Max Abweichung von Duchschnitt: 8.424342105263158\n",
      "p*v ist konstant!\n"
     ]
    }
   ],
   "source": [
    "v = [1.0, 1.5, 2.0, 3.0, 4.0, 5.0, 6.0, 7.0, 8.0, 9.0, 10.0, 12.0, 14.0, 16.0, 18.0, 20.0, 24.0, 28.0, 32.0]\n",
    "p = [29.750, 19.125, 14.375, 9.5, 7.125, 5.625, 4.875, 4.250, 3.750, 3.375, 3.0, 2.625, 2.250, 2.0, 1.875, 1.750, 1.5, 1.375, 1.250]\n",
    "pv = [0, 1, 2, 3, 4, 5, 6, 7, 8, 9, 10, 11, 12, 13, 14, 15, 16, 17, 18]\n",
    "abweichung_von_avg = [0,1]\n",
    "\n",
    "\n",
    "for i in range(0, 19):\n",
    "    c = v[i] * p[i]\n",
    "    pv[i] = c\n",
    "\n",
    "avg = sum(pv)/19\n",
    "minpv = min(pv)\n",
    "maxpv = max(pv)\n",
    "\n",
    "def abweichung_max (avg, minpv, maxpv):\n",
    "    abweichung_von_avg [0] = abs(avg - minpv)\n",
    "    abweichung_von_avg [1] = abs(avg - maxpv)\n",
    "    return max(abweichung_von_avg)\n",
    "\n",
    "\n",
    "print(\"Max Wert:\", maxpv)\n",
    "print(\"Min Wert:\", minpv)\n",
    "print(\"Durschschnitt\", avg)\n",
    "print(\"Max Abweichung von Duchschnitt:\", abweichung_max(avg, minpv, maxpv))\n",
    "if abweichung_max(avg, minpv, maxpv) < 10:\n",
    "    print(\"p*v ist konstant!\")\n",
    "else:\n",
    "    print(\"p*v ist nicht konstant\")\n",
    "\n",
    "\n",
    "    \n",
    "\n",
    "    "
   ]
  },
  {
   "cell_type": "code",
   "execution_count": null,
   "id": "64e70d58-373a-4a54-b2b1-4742520d134f",
   "metadata": {},
   "outputs": [],
   "source": []
  }
 ],
 "metadata": {
  "kernelspec": {
   "display_name": "Python 3 (ipykernel)",
   "language": "python",
   "name": "python3"
  },
  "language_info": {
   "codemirror_mode": {
    "name": "ipython",
    "version": 3
   },
   "file_extension": ".py",
   "mimetype": "text/x-python",
   "name": "python",
   "nbconvert_exporter": "python",
   "pygments_lexer": "ipython3",
   "version": "3.13.0"
  }
 },
 "nbformat": 4,
 "nbformat_minor": 5
}
