{
 "cells": [
  {
   "cell_type": "code",
   "execution_count": 52,
   "id": "ddac15c9-124c-41cd-9fc5-d4ff5fd93e19",
   "metadata": {},
   "outputs": [
    {
     "name": "stdin",
     "output_type": "stream",
     "text": [
      "Abweichung in Prozent 30\n"
     ]
    },
    {
     "name": "stdout",
     "output_type": "stream",
     "text": [
      "Liste von P*V: [29.75, 28.6875, 28.75, 28.5, 28.5, 28.125, 29.25, 29.75, 30.0, 30.375, 30.0, 31.5, 31.5, 32.0, 33.75, 35.0, 36.0, 38.5, 40.0]\n",
      "Mittelwert von Liste P*V: 31.575657894736842\n",
      "P*V ist konstant\n"
     ]
    }
   ],
   "source": [
    "Volume=[1.0,1.5,2.0,3.0,4.0,5.0,6.0,7.0,8.0,9.0,10.0,12.0,14.0,16.0,18.0,20.0,24.0,28.0,32.0]\n",
    "Pressure=[29.750,19.125,14.375,9.500,7.125,5.625,4.875,4.250,3.750,3.375,3.000,2.625,2.250,2.000,1.875,1.750,1.500,1.375,1.250]\n",
    "PV=[ ]\n",
    "abweichung=input(\"Abweichung in Prozent\")\n",
    "m=0\n",
    "def prozent(prozent, ganz):\n",
    "    return (prozent*ganz)/100\n",
    "nummer=len(Volume)\n",
    "for y in range(nummer):\n",
    "    V=Volume[y]\n",
    "    P=Pressure[y]\n",
    "    x=P*V\n",
    "    PV.append(x)\n",
    "    m+=x\n",
    "mittelwert=m/nummer\n",
    "intervall1=prozent(100-int(abweichung),mittelwert)\n",
    "intervall2=prozent(100+int(abweichung),mittelwert)\n",
    "for b in range(nummer):\n",
    "    if (PV[b]>=intervall1) and (PV[b]<=intervall2):\n",
    "        c=True\n",
    "    else:\n",
    "        c=False\n",
    "print(\"Liste von P*V:\",PV)\n",
    "print(\"Mittelwert von Liste P*V:\",mittelwert)\n",
    "if (c==True):\n",
    "    print(\"P*V ist konstant\")\n",
    "else:\n",
    "    print(\"P*V ist nicht konstant\")"
   ]
  },
  {
   "cell_type": "code",
   "execution_count": null,
   "id": "2f536c2e-7ddd-40f7-bb9a-b50a7624d4f8",
   "metadata": {},
   "outputs": [],
   "source": []
  }
 ],
 "metadata": {
  "kernelspec": {
   "display_name": "Python 3 (ipykernel)",
   "language": "python",
   "name": "python3"
  },
  "language_info": {
   "codemirror_mode": {
    "name": "ipython",
    "version": 3
   },
   "file_extension": ".py",
   "mimetype": "text/x-python",
   "name": "python",
   "nbconvert_exporter": "python",
   "pygments_lexer": "ipython3",
   "version": "3.10.0"
  }
 },
 "nbformat": 4,
 "nbformat_minor": 5
}
