{
 "cells": [
  {
   "cell_type": "code",
   "execution_count": 3,
   "id": "233425f9-76e6-4b01-8d0b-de9c38db79ce",
   "metadata": {},
   "outputs": [
    {
     "name": "stdout",
     "output_type": "stream",
     "text": [
      "Durchschnitt von P*V: 31.575657894736842\n",
      " \n",
      "Maximaler Wert: 40.0\n",
      "Minimaler Wert: 28.125\n",
      " \n",
      "Maximale Abweichung vom Durchschnitt: 8.424342105263158\n",
      "Maximal zugelassene Abweichung: 10\n",
      " \n",
      "Ergebnis:\n",
      "P * V = konstant\n",
      "(Die Abweichung vom Durchschnitt überschreitet die maximal zugelassene Abweichung nicht)\n"
     ]
    }
   ],
   "source": [
    "import math\n",
    "volume = [1.0, 1.5, 2.0, 3.0, 4.0, 5.0, 6.0, 7.0, 8.0, 9.0, 10.0, 12.0, 14.0, 16.0, 18.0, 20.0, 24.0, 28.0, 32.0]\n",
    "pressure = [29.750, 19.125, 14.375, 9.5, 7.125, 5.625, 4.875, 4.250, 3.750, 3.375, 3.0, 2.625, 2.250, 2.0, 1.875, 1.750, 1.5, 1.375, 1.250]\n",
    "pv = [0, 1, 2, 3, 4, 5, 6, 7, 8, 9, 10, 11, 12, 13, 14, 15, 16, 17, 18]\n",
    "a = 0\n",
    "average = 0.0\n",
    "abweichung = [0, 1]\n",
    "maxabweichung = 0.0\n",
    "\n",
    "# Berechnung von P * V = c (für jedes P und das dazugehörige V gibt es ein c)\n",
    "# jedes c wird an die entsprechende Stelle in pv geschrieben\n",
    "for a in range(0, 19):\n",
    "    c = volume[a] * pressure [a]\n",
    "    pv[a] = c\n",
    "\n",
    "# Berechnung des Durchschnitts von pv\n",
    "a = 0\n",
    "for a in range(0, 19):\n",
    "    average += pv[a]\n",
    "average = average / 19\n",
    "\n",
    "# Maximal und Minimalwerte von pv\n",
    "maxpv = max(pv)\n",
    "minpv = min(pv)\n",
    "\n",
    "# Printen der Ergebisse\n",
    "print(\"Durchschnitt von P*V:\", end=\" \")\n",
    "print(average)\n",
    "print(\" \")\n",
    "print(\"Maximaler Wert:\", end=\" \")\n",
    "print(maxpv)\n",
    "print(\"Minimaler Wert:\", end=\" \")\n",
    "print(minpv)\n",
    "print(\" \")\n",
    "\n",
    "# Berechnung der Maximalen Abweichung vom Durchschnitt für pv mit Hilfe des Mini- bzw Maximalwerts\n",
    "# abs() damit der Betrag des Ergebnisses genommen wird\n",
    "abweichung[0] = abs(average - maxpv)\n",
    "abweichung[1] = abs(average - minpv)\n",
    "\n",
    "# Printen der Ergebnisse\n",
    "maxabweichung = max(abweichung)\n",
    "print(\"Maximale Abweichung vom Durchschnitt:\", end=\" \")\n",
    "print(maxabweichung)\n",
    "\n",
    "# Maximal zugelassene Abweichung vom Durchschnitt\n",
    "maxerlabweichung = 10\n",
    "print(\"Maximal zugelassene Abweichung:\", end=\" \")\n",
    "print(maxerlabweichung)\n",
    "\n",
    "# Ergebniss mit Berechnung ob die Abweichung die zugelassene Maximalabweichung einhält\n",
    "print(\" \")\n",
    "print(\"Ergebnis:\")\n",
    "if maxabweichung < maxerlabweichung:\n",
    "    print(\"P * V = konstant\")\n",
    "    print(\"(Die Abweichung vom Durchschnitt überschreitet die maximal zugelassene Abweichung nicht)\")\n",
    "else:\n",
    "    print(\"P * V ist nicht konstant\")\n",
    "    print(\"(Die Abweichung vom Durchschnitt überschreitet die maximal zugelassene Abweichung)\")\n"
   ]
  },
  {
   "cell_type": "code",
   "execution_count": null,
   "id": "6e648e86-2c92-4413-86ad-c2d56f68011f",
   "metadata": {},
   "outputs": [],
   "source": []
  }
 ],
 "metadata": {
  "kernelspec": {
   "display_name": "Python 3 (ipykernel)",
   "language": "python",
   "name": "python3"
  },
  "language_info": {
   "codemirror_mode": {
    "name": "ipython",
    "version": 3
   },
   "file_extension": ".py",
   "mimetype": "text/x-python",
   "name": "python",
   "nbconvert_exporter": "python",
   "pygments_lexer": "ipython3",
   "version": "3.12.7"
  }
 },
 "nbformat": 4,
 "nbformat_minor": 5
}
